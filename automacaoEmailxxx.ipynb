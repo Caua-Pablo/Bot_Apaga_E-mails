{
 "cells": [
  {
   "cell_type": "code",
   "execution_count": 1,
   "id": "7878c75b",
   "metadata": {},
   "outputs": [],
   "source": [
    "import pyautogui\n",
    "import time"
   ]
  },
  {
   "cell_type": "code",
   "execution_count": 3,
   "id": "0ce41932",
   "metadata": {},
   "outputs": [],
   "source": [
    "pyautogui.alert(\"O Código vai rodar agora, favor não tocar em nada\")\n",
    "pyautogui.press('winleft')\n",
    "pyautogui.write('chrome')\n",
    "time.sleep(1)\n",
    "pyautogui.press('enter')\n",
    "time.sleep(1)\n",
    "pyautogui.click(67, 82)\n",
    "time.sleep(3)\n",
    "pyautogui.click(272, 175)\n",
    "time.sleep(1)\n",
    "pyautogui.click(431, 157)\n"
   ]
  }
 ],
 "metadata": {
  "kernelspec": {
   "display_name": "Python 3 (ipykernel)",
   "language": "python",
   "name": "python3"
  },
  "language_info": {
   "codemirror_mode": {
    "name": "ipython",
    "version": 3
   },
   "file_extension": ".py",
   "mimetype": "text/x-python",
   "name": "python",
   "nbconvert_exporter": "python",
   "pygments_lexer": "ipython3",
   "version": "3.9.7"
  }
 },
 "nbformat": 4,
 "nbformat_minor": 5
}
